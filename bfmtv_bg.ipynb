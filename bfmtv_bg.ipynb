{
  "nbformat": 4,
  "nbformat_minor": 0,
  "metadata": {
    "colab": {
      "provenance": [],
      "gpuType": "T4"
    },
    "kernelspec": {
      "name": "python3",
      "display_name": "Python 3"
    },
    "language_info": {
      "name": "python"
    },
    "accelerator": "GPU",
    "widgets": {
      "application/vnd.jupyter.widget-state+json": {
        "337b45f2edf748a6aca08192bc1f838f": {
          "model_module": "@jupyter-widgets/controls",
          "model_name": "HBoxModel",
          "model_module_version": "1.5.0",
          "state": {
            "_dom_classes": [],
            "_model_module": "@jupyter-widgets/controls",
            "_model_module_version": "1.5.0",
            "_model_name": "HBoxModel",
            "_view_count": null,
            "_view_module": "@jupyter-widgets/controls",
            "_view_module_version": "1.5.0",
            "_view_name": "HBoxView",
            "box_style": "",
            "children": [
              "IPY_MODEL_deace488020040bea117137cd181cdd0",
              "IPY_MODEL_70da932240e14c4fb51248cb781624ca",
              "IPY_MODEL_f7398e4da7944073a9edb8804b1dd970"
            ],
            "layout": "IPY_MODEL_4323a28d68ea4064b4abd8eea2b5991d"
          }
        },
        "deace488020040bea117137cd181cdd0": {
          "model_module": "@jupyter-widgets/controls",
          "model_name": "HTMLModel",
          "model_module_version": "1.5.0",
          "state": {
            "_dom_classes": [],
            "_model_module": "@jupyter-widgets/controls",
            "_model_module_version": "1.5.0",
            "_model_name": "HTMLModel",
            "_view_count": null,
            "_view_module": "@jupyter-widgets/controls",
            "_view_module_version": "1.5.0",
            "_view_name": "HTMLView",
            "description": "",
            "description_tooltip": null,
            "layout": "IPY_MODEL_f5e8708eeea54e52b6307cc71bb375b3",
            "placeholder": "​",
            "style": "IPY_MODEL_2b2d6ec5fabd4df6a981474fec767e36",
            "value": "Map: 100%"
          }
        },
        "70da932240e14c4fb51248cb781624ca": {
          "model_module": "@jupyter-widgets/controls",
          "model_name": "FloatProgressModel",
          "model_module_version": "1.5.0",
          "state": {
            "_dom_classes": [],
            "_model_module": "@jupyter-widgets/controls",
            "_model_module_version": "1.5.0",
            "_model_name": "FloatProgressModel",
            "_view_count": null,
            "_view_module": "@jupyter-widgets/controls",
            "_view_module_version": "1.5.0",
            "_view_name": "ProgressView",
            "bar_style": "success",
            "description": "",
            "description_tooltip": null,
            "layout": "IPY_MODEL_ce40996bfd0944ac9a4ef00657f41880",
            "max": 289,
            "min": 0,
            "orientation": "horizontal",
            "style": "IPY_MODEL_e785f31e65c84a75863625148d78ce66",
            "value": 289
          }
        },
        "f7398e4da7944073a9edb8804b1dd970": {
          "model_module": "@jupyter-widgets/controls",
          "model_name": "HTMLModel",
          "model_module_version": "1.5.0",
          "state": {
            "_dom_classes": [],
            "_model_module": "@jupyter-widgets/controls",
            "_model_module_version": "1.5.0",
            "_model_name": "HTMLModel",
            "_view_count": null,
            "_view_module": "@jupyter-widgets/controls",
            "_view_module_version": "1.5.0",
            "_view_name": "HTMLView",
            "description": "",
            "description_tooltip": null,
            "layout": "IPY_MODEL_20e6e6c01eb34e3eb306ad8a4af3f4b2",
            "placeholder": "​",
            "style": "IPY_MODEL_bdb00611aae24b82afbf162938f44be7",
            "value": " 289/289 [00:00&lt;00:00, 556.84 examples/s]"
          }
        },
        "4323a28d68ea4064b4abd8eea2b5991d": {
          "model_module": "@jupyter-widgets/base",
          "model_name": "LayoutModel",
          "model_module_version": "1.2.0",
          "state": {
            "_model_module": "@jupyter-widgets/base",
            "_model_module_version": "1.2.0",
            "_model_name": "LayoutModel",
            "_view_count": null,
            "_view_module": "@jupyter-widgets/base",
            "_view_module_version": "1.2.0",
            "_view_name": "LayoutView",
            "align_content": null,
            "align_items": null,
            "align_self": null,
            "border": null,
            "bottom": null,
            "display": null,
            "flex": null,
            "flex_flow": null,
            "grid_area": null,
            "grid_auto_columns": null,
            "grid_auto_flow": null,
            "grid_auto_rows": null,
            "grid_column": null,
            "grid_gap": null,
            "grid_row": null,
            "grid_template_areas": null,
            "grid_template_columns": null,
            "grid_template_rows": null,
            "height": null,
            "justify_content": null,
            "justify_items": null,
            "left": null,
            "margin": null,
            "max_height": null,
            "max_width": null,
            "min_height": null,
            "min_width": null,
            "object_fit": null,
            "object_position": null,
            "order": null,
            "overflow": null,
            "overflow_x": null,
            "overflow_y": null,
            "padding": null,
            "right": null,
            "top": null,
            "visibility": null,
            "width": null
          }
        },
        "f5e8708eeea54e52b6307cc71bb375b3": {
          "model_module": "@jupyter-widgets/base",
          "model_name": "LayoutModel",
          "model_module_version": "1.2.0",
          "state": {
            "_model_module": "@jupyter-widgets/base",
            "_model_module_version": "1.2.0",
            "_model_name": "LayoutModel",
            "_view_count": null,
            "_view_module": "@jupyter-widgets/base",
            "_view_module_version": "1.2.0",
            "_view_name": "LayoutView",
            "align_content": null,
            "align_items": null,
            "align_self": null,
            "border": null,
            "bottom": null,
            "display": null,
            "flex": null,
            "flex_flow": null,
            "grid_area": null,
            "grid_auto_columns": null,
            "grid_auto_flow": null,
            "grid_auto_rows": null,
            "grid_column": null,
            "grid_gap": null,
            "grid_row": null,
            "grid_template_areas": null,
            "grid_template_columns": null,
            "grid_template_rows": null,
            "height": null,
            "justify_content": null,
            "justify_items": null,
            "left": null,
            "margin": null,
            "max_height": null,
            "max_width": null,
            "min_height": null,
            "min_width": null,
            "object_fit": null,
            "object_position": null,
            "order": null,
            "overflow": null,
            "overflow_x": null,
            "overflow_y": null,
            "padding": null,
            "right": null,
            "top": null,
            "visibility": null,
            "width": null
          }
        },
        "2b2d6ec5fabd4df6a981474fec767e36": {
          "model_module": "@jupyter-widgets/controls",
          "model_name": "DescriptionStyleModel",
          "model_module_version": "1.5.0",
          "state": {
            "_model_module": "@jupyter-widgets/controls",
            "_model_module_version": "1.5.0",
            "_model_name": "DescriptionStyleModel",
            "_view_count": null,
            "_view_module": "@jupyter-widgets/base",
            "_view_module_version": "1.2.0",
            "_view_name": "StyleView",
            "description_width": ""
          }
        },
        "ce40996bfd0944ac9a4ef00657f41880": {
          "model_module": "@jupyter-widgets/base",
          "model_name": "LayoutModel",
          "model_module_version": "1.2.0",
          "state": {
            "_model_module": "@jupyter-widgets/base",
            "_model_module_version": "1.2.0",
            "_model_name": "LayoutModel",
            "_view_count": null,
            "_view_module": "@jupyter-widgets/base",
            "_view_module_version": "1.2.0",
            "_view_name": "LayoutView",
            "align_content": null,
            "align_items": null,
            "align_self": null,
            "border": null,
            "bottom": null,
            "display": null,
            "flex": null,
            "flex_flow": null,
            "grid_area": null,
            "grid_auto_columns": null,
            "grid_auto_flow": null,
            "grid_auto_rows": null,
            "grid_column": null,
            "grid_gap": null,
            "grid_row": null,
            "grid_template_areas": null,
            "grid_template_columns": null,
            "grid_template_rows": null,
            "height": null,
            "justify_content": null,
            "justify_items": null,
            "left": null,
            "margin": null,
            "max_height": null,
            "max_width": null,
            "min_height": null,
            "min_width": null,
            "object_fit": null,
            "object_position": null,
            "order": null,
            "overflow": null,
            "overflow_x": null,
            "overflow_y": null,
            "padding": null,
            "right": null,
            "top": null,
            "visibility": null,
            "width": null
          }
        },
        "e785f31e65c84a75863625148d78ce66": {
          "model_module": "@jupyter-widgets/controls",
          "model_name": "ProgressStyleModel",
          "model_module_version": "1.5.0",
          "state": {
            "_model_module": "@jupyter-widgets/controls",
            "_model_module_version": "1.5.0",
            "_model_name": "ProgressStyleModel",
            "_view_count": null,
            "_view_module": "@jupyter-widgets/base",
            "_view_module_version": "1.2.0",
            "_view_name": "StyleView",
            "bar_color": null,
            "description_width": ""
          }
        },
        "20e6e6c01eb34e3eb306ad8a4af3f4b2": {
          "model_module": "@jupyter-widgets/base",
          "model_name": "LayoutModel",
          "model_module_version": "1.2.0",
          "state": {
            "_model_module": "@jupyter-widgets/base",
            "_model_module_version": "1.2.0",
            "_model_name": "LayoutModel",
            "_view_count": null,
            "_view_module": "@jupyter-widgets/base",
            "_view_module_version": "1.2.0",
            "_view_name": "LayoutView",
            "align_content": null,
            "align_items": null,
            "align_self": null,
            "border": null,
            "bottom": null,
            "display": null,
            "flex": null,
            "flex_flow": null,
            "grid_area": null,
            "grid_auto_columns": null,
            "grid_auto_flow": null,
            "grid_auto_rows": null,
            "grid_column": null,
            "grid_gap": null,
            "grid_row": null,
            "grid_template_areas": null,
            "grid_template_columns": null,
            "grid_template_rows": null,
            "height": null,
            "justify_content": null,
            "justify_items": null,
            "left": null,
            "margin": null,
            "max_height": null,
            "max_width": null,
            "min_height": null,
            "min_width": null,
            "object_fit": null,
            "object_position": null,
            "order": null,
            "overflow": null,
            "overflow_x": null,
            "overflow_y": null,
            "padding": null,
            "right": null,
            "top": null,
            "visibility": null,
            "width": null
          }
        },
        "bdb00611aae24b82afbf162938f44be7": {
          "model_module": "@jupyter-widgets/controls",
          "model_name": "DescriptionStyleModel",
          "model_module_version": "1.5.0",
          "state": {
            "_model_module": "@jupyter-widgets/controls",
            "_model_module_version": "1.5.0",
            "_model_name": "DescriptionStyleModel",
            "_view_count": null,
            "_view_module": "@jupyter-widgets/base",
            "_view_module_version": "1.2.0",
            "_view_name": "StyleView",
            "description_width": ""
          }
        },
        "ff24161ad38b443f9d3fec5f2939f586": {
          "model_module": "@jupyter-widgets/controls",
          "model_name": "HBoxModel",
          "model_module_version": "1.5.0",
          "state": {
            "_dom_classes": [],
            "_model_module": "@jupyter-widgets/controls",
            "_model_module_version": "1.5.0",
            "_model_name": "HBoxModel",
            "_view_count": null,
            "_view_module": "@jupyter-widgets/controls",
            "_view_module_version": "1.5.0",
            "_view_name": "HBoxView",
            "box_style": "",
            "children": [
              "IPY_MODEL_95555b2edf2c47139908922dfa5e89d0",
              "IPY_MODEL_921be156b6484289924467dcd63622f1",
              "IPY_MODEL_3de076b68a79468a9d8614067aeb1ce5"
            ],
            "layout": "IPY_MODEL_f3b9e5f74c6e45649c221592b239d9c8"
          }
        },
        "95555b2edf2c47139908922dfa5e89d0": {
          "model_module": "@jupyter-widgets/controls",
          "model_name": "HTMLModel",
          "model_module_version": "1.5.0",
          "state": {
            "_dom_classes": [],
            "_model_module": "@jupyter-widgets/controls",
            "_model_module_version": "1.5.0",
            "_model_name": "HTMLModel",
            "_view_count": null,
            "_view_module": "@jupyter-widgets/controls",
            "_view_module_version": "1.5.0",
            "_view_name": "HTMLView",
            "description": "",
            "description_tooltip": null,
            "layout": "IPY_MODEL_7e61bde94d104a678e6c6c59762c03e8",
            "placeholder": "​",
            "style": "IPY_MODEL_0e40d1b82e934ca9823729d3e5977f67",
            "value": "Map: 100%"
          }
        },
        "921be156b6484289924467dcd63622f1": {
          "model_module": "@jupyter-widgets/controls",
          "model_name": "FloatProgressModel",
          "model_module_version": "1.5.0",
          "state": {
            "_dom_classes": [],
            "_model_module": "@jupyter-widgets/controls",
            "_model_module_version": "1.5.0",
            "_model_name": "FloatProgressModel",
            "_view_count": null,
            "_view_module": "@jupyter-widgets/controls",
            "_view_module_version": "1.5.0",
            "_view_name": "ProgressView",
            "bar_style": "success",
            "description": "",
            "description_tooltip": null,
            "layout": "IPY_MODEL_a05a3ce88f754883afae59695f0d8b23",
            "max": 73,
            "min": 0,
            "orientation": "horizontal",
            "style": "IPY_MODEL_519824295f494b17ada5d163d191f006",
            "value": 73
          }
        },
        "3de076b68a79468a9d8614067aeb1ce5": {
          "model_module": "@jupyter-widgets/controls",
          "model_name": "HTMLModel",
          "model_module_version": "1.5.0",
          "state": {
            "_dom_classes": [],
            "_model_module": "@jupyter-widgets/controls",
            "_model_module_version": "1.5.0",
            "_model_name": "HTMLModel",
            "_view_count": null,
            "_view_module": "@jupyter-widgets/controls",
            "_view_module_version": "1.5.0",
            "_view_name": "HTMLView",
            "description": "",
            "description_tooltip": null,
            "layout": "IPY_MODEL_8c63e2cee41f4fddaa7ef9dcb1c3cb6a",
            "placeholder": "​",
            "style": "IPY_MODEL_844fd2eb62334e4087c8687561761361",
            "value": " 73/73 [00:00&lt;00:00, 349.57 examples/s]"
          }
        },
        "f3b9e5f74c6e45649c221592b239d9c8": {
          "model_module": "@jupyter-widgets/base",
          "model_name": "LayoutModel",
          "model_module_version": "1.2.0",
          "state": {
            "_model_module": "@jupyter-widgets/base",
            "_model_module_version": "1.2.0",
            "_model_name": "LayoutModel",
            "_view_count": null,
            "_view_module": "@jupyter-widgets/base",
            "_view_module_version": "1.2.0",
            "_view_name": "LayoutView",
            "align_content": null,
            "align_items": null,
            "align_self": null,
            "border": null,
            "bottom": null,
            "display": null,
            "flex": null,
            "flex_flow": null,
            "grid_area": null,
            "grid_auto_columns": null,
            "grid_auto_flow": null,
            "grid_auto_rows": null,
            "grid_column": null,
            "grid_gap": null,
            "grid_row": null,
            "grid_template_areas": null,
            "grid_template_columns": null,
            "grid_template_rows": null,
            "height": null,
            "justify_content": null,
            "justify_items": null,
            "left": null,
            "margin": null,
            "max_height": null,
            "max_width": null,
            "min_height": null,
            "min_width": null,
            "object_fit": null,
            "object_position": null,
            "order": null,
            "overflow": null,
            "overflow_x": null,
            "overflow_y": null,
            "padding": null,
            "right": null,
            "top": null,
            "visibility": null,
            "width": null
          }
        },
        "7e61bde94d104a678e6c6c59762c03e8": {
          "model_module": "@jupyter-widgets/base",
          "model_name": "LayoutModel",
          "model_module_version": "1.2.0",
          "state": {
            "_model_module": "@jupyter-widgets/base",
            "_model_module_version": "1.2.0",
            "_model_name": "LayoutModel",
            "_view_count": null,
            "_view_module": "@jupyter-widgets/base",
            "_view_module_version": "1.2.0",
            "_view_name": "LayoutView",
            "align_content": null,
            "align_items": null,
            "align_self": null,
            "border": null,
            "bottom": null,
            "display": null,
            "flex": null,
            "flex_flow": null,
            "grid_area": null,
            "grid_auto_columns": null,
            "grid_auto_flow": null,
            "grid_auto_rows": null,
            "grid_column": null,
            "grid_gap": null,
            "grid_row": null,
            "grid_template_areas": null,
            "grid_template_columns": null,
            "grid_template_rows": null,
            "height": null,
            "justify_content": null,
            "justify_items": null,
            "left": null,
            "margin": null,
            "max_height": null,
            "max_width": null,
            "min_height": null,
            "min_width": null,
            "object_fit": null,
            "object_position": null,
            "order": null,
            "overflow": null,
            "overflow_x": null,
            "overflow_y": null,
            "padding": null,
            "right": null,
            "top": null,
            "visibility": null,
            "width": null
          }
        },
        "0e40d1b82e934ca9823729d3e5977f67": {
          "model_module": "@jupyter-widgets/controls",
          "model_name": "DescriptionStyleModel",
          "model_module_version": "1.5.0",
          "state": {
            "_model_module": "@jupyter-widgets/controls",
            "_model_module_version": "1.5.0",
            "_model_name": "DescriptionStyleModel",
            "_view_count": null,
            "_view_module": "@jupyter-widgets/base",
            "_view_module_version": "1.2.0",
            "_view_name": "StyleView",
            "description_width": ""
          }
        },
        "a05a3ce88f754883afae59695f0d8b23": {
          "model_module": "@jupyter-widgets/base",
          "model_name": "LayoutModel",
          "model_module_version": "1.2.0",
          "state": {
            "_model_module": "@jupyter-widgets/base",
            "_model_module_version": "1.2.0",
            "_model_name": "LayoutModel",
            "_view_count": null,
            "_view_module": "@jupyter-widgets/base",
            "_view_module_version": "1.2.0",
            "_view_name": "LayoutView",
            "align_content": null,
            "align_items": null,
            "align_self": null,
            "border": null,
            "bottom": null,
            "display": null,
            "flex": null,
            "flex_flow": null,
            "grid_area": null,
            "grid_auto_columns": null,
            "grid_auto_flow": null,
            "grid_auto_rows": null,
            "grid_column": null,
            "grid_gap": null,
            "grid_row": null,
            "grid_template_areas": null,
            "grid_template_columns": null,
            "grid_template_rows": null,
            "height": null,
            "justify_content": null,
            "justify_items": null,
            "left": null,
            "margin": null,
            "max_height": null,
            "max_width": null,
            "min_height": null,
            "min_width": null,
            "object_fit": null,
            "object_position": null,
            "order": null,
            "overflow": null,
            "overflow_x": null,
            "overflow_y": null,
            "padding": null,
            "right": null,
            "top": null,
            "visibility": null,
            "width": null
          }
        },
        "519824295f494b17ada5d163d191f006": {
          "model_module": "@jupyter-widgets/controls",
          "model_name": "ProgressStyleModel",
          "model_module_version": "1.5.0",
          "state": {
            "_model_module": "@jupyter-widgets/controls",
            "_model_module_version": "1.5.0",
            "_model_name": "ProgressStyleModel",
            "_view_count": null,
            "_view_module": "@jupyter-widgets/base",
            "_view_module_version": "1.2.0",
            "_view_name": "StyleView",
            "bar_color": null,
            "description_width": ""
          }
        },
        "8c63e2cee41f4fddaa7ef9dcb1c3cb6a": {
          "model_module": "@jupyter-widgets/base",
          "model_name": "LayoutModel",
          "model_module_version": "1.2.0",
          "state": {
            "_model_module": "@jupyter-widgets/base",
            "_model_module_version": "1.2.0",
            "_model_name": "LayoutModel",
            "_view_count": null,
            "_view_module": "@jupyter-widgets/base",
            "_view_module_version": "1.2.0",
            "_view_name": "LayoutView",
            "align_content": null,
            "align_items": null,
            "align_self": null,
            "border": null,
            "bottom": null,
            "display": null,
            "flex": null,
            "flex_flow": null,
            "grid_area": null,
            "grid_auto_columns": null,
            "grid_auto_flow": null,
            "grid_auto_rows": null,
            "grid_column": null,
            "grid_gap": null,
            "grid_row": null,
            "grid_template_areas": null,
            "grid_template_columns": null,
            "grid_template_rows": null,
            "height": null,
            "justify_content": null,
            "justify_items": null,
            "left": null,
            "margin": null,
            "max_height": null,
            "max_width": null,
            "min_height": null,
            "min_width": null,
            "object_fit": null,
            "object_position": null,
            "order": null,
            "overflow": null,
            "overflow_x": null,
            "overflow_y": null,
            "padding": null,
            "right": null,
            "top": null,
            "visibility": null,
            "width": null
          }
        },
        "844fd2eb62334e4087c8687561761361": {
          "model_module": "@jupyter-widgets/controls",
          "model_name": "DescriptionStyleModel",
          "model_module_version": "1.5.0",
          "state": {
            "_model_module": "@jupyter-widgets/controls",
            "_model_module_version": "1.5.0",
            "_model_name": "DescriptionStyleModel",
            "_view_count": null,
            "_view_module": "@jupyter-widgets/base",
            "_view_module_version": "1.2.0",
            "_view_name": "StyleView",
            "description_width": ""
          }
        }
      }
    }
  },
  "cells": [
    {
      "cell_type": "code",
      "source": [
        "!pip install -q -U datasets accelerate peft transformers trl bitsandbytes"
      ],
      "metadata": {
        "colab": {
          "base_uri": "https://localhost:8080/"
        },
        "id": "DD8C1HnguBvd",
        "outputId": "dfc0ad57-ea86-4e31-ddbc-ebd92769a790"
      },
      "execution_count": 16,
      "outputs": [
        {
          "output_type": "stream",
          "name": "stdout",
          "text": [
            "\u001b[2K   \u001b[90m━━━━━━━━━━━━━━━━━━━━━━━━━━━━━━━━━━━━━━━━\u001b[0m \u001b[32m69.7/69.7 MB\u001b[0m \u001b[31m11.4 MB/s\u001b[0m eta \u001b[36m0:00:00\u001b[0m\n",
            "\u001b[?25h"
          ]
        }
      ]
    },
    {
      "cell_type": "code",
      "execution_count": 5,
      "metadata": {
        "id": "p-vDXNG3slrY"
      },
      "outputs": [],
      "source": [
        "# inspiré de https://github.com/blancsw/deep_4_all/blob/main/cours/TP/text/sft_train_gpu.ipynb\n",
        "\n",
        "from accelerate import PartialState\n",
        "from transformers import AutoModelForCausalLM, AutoTokenizer\n",
        "from trl import SFTConfig, SFTTrainer, DataCollatorForCompletionOnlyLM\n",
        "\n",
        "checkpoint = \"HuggingFaceTB/SmolLM2-360M-Instruct\"\n",
        "\n",
        "device = \"cuda\" # for GPU usage or \"cpu\" for CPU usage\n",
        "tokenizer = AutoTokenizer.from_pretrained(checkpoint)\n",
        "\n",
        "# for multiple GPUs install accelerate and do `model = AutoModelForCausalLM.from_pretrained(checkpoint, device_map=\"auto\")`\n",
        "model = AutoModelForCausalLM.from_pretrained(checkpoint, device_map=\"auto\").to(device)\n",
        "\n",
        "# messages = [{\"role\": \"user\", \"content\": \"What is the capital of France.\"}]\n",
        "# input_text=tokenizer.apply_chat_template(messages, tokenize=False)\n",
        "# print(input_text)\n",
        "# inputs = tokenizer.encode(input_text, return_tensors=\"pt\").to(device)\n",
        "# outputs = model.generate(inputs, max_new_tokens=50, temperature=0.2, top_p=0.9, do_sample=True)\n",
        "# print(tokenizer.decode(outputs[0]))"
      ]
    },
    {
      "cell_type": "code",
      "source": [
        "from datasets import load_dataset\n",
        "\n",
        "# Charger le dataset\n",
        "\n",
        "ds = load_dataset(\"IJUN/FakeNews\")\n",
        "\n",
        "split_ds = ds[\"train\"].train_test_split(test_size=0.2, seed=42)\n",
        "\n",
        "# Access train and test splits\n",
        "train_dataset = split_ds[\"train\"]\n",
        "test_dataset = split_ds[\"test\"]\n"
      ],
      "metadata": {
        "id": "NuxTCuO_tDUJ"
      },
      "execution_count": 6,
      "outputs": []
    },
    {
      "cell_type": "code",
      "source": [
        "response_template = \"<|im_start|>assistant\\n\"\n",
        "instruction_template = \"<|im_start|>user\\n\"\n",
        "PROMPT_TEMPLATE = \"\"\"Query: {query}\n",
        "\n",
        "\"\"\"\n",
        "\n",
        "def formatting_prompts_func(example):\n",
        "    \"\"\"\n",
        "    Converts each example into a conversation string using the tokenizer's chat template.\n",
        "    Assumes each example contains lists under \"instruction\" and \"output\".\n",
        "    \"\"\"\n",
        "    output_texts = []\n",
        "    for i in range(len(example[\"input\"])):\n",
        "        # Build a conversation with a user message and an assistant reply.\n",
        "        messages = [\n",
        "            {\n",
        "                \"role\":    \"system\",\n",
        "                \"content\": \"You are an expert journalist / fact-checker from Fox News and your goal is to fact-check the user query.\"\n",
        "                },\n",
        "            {\"role\": \"user\", \"content\": PROMPT_TEMPLATE.format(query=example[\"input\"][i])},\n",
        "            # Note: It is important that the assistant message content here does not\n",
        "            # include the assistant marker, because the chat template will insert it.\n",
        "            {\"role\": \"assistant\", \"content\": example[\"output\"][i]}\n",
        "            ]\n",
        "        # Use the chat template to generate the formatted text.\n",
        "        text = tokenizer.apply_chat_template(messages, tokenize=False)\n",
        "        output_texts.append(text)\n",
        "    return output_texts\n",
        "\n",
        "collator = DataCollatorForCompletionOnlyLM(response_template=response_template,\n",
        "                                           instruction_template=instruction_template,\n",
        "                                           tokenizer=tokenizer,\n",
        "                                           mlm=False)"
      ],
      "metadata": {
        "colab": {
          "base_uri": "https://localhost:8080/"
        },
        "id": "yZVlFknS1_Z9",
        "outputId": "fb0b735a-68de-428f-fe0b-8277a0684df2"
      },
      "execution_count": 25,
      "outputs": [
        {
          "output_type": "stream",
          "name": "stderr",
          "text": [
            "/usr/local/lib/python3.11/dist-packages/trl/trainer/utils.py:112: UserWarning: The pad_token_id and eos_token_id values of this tokenizer are identical. If you are planning for multi-turn training, it can result in the model continuously generating questions and answers without eos token. To avoid this, set the pad_token_id to a different value.\n",
            "  warnings.warn(\n"
          ]
        }
      ]
    },
    {
      "cell_type": "code",
      "source": [
        "tokenizer.apply_chat_template([\n",
        "    {\"role\": \"system\", \"content\": \"You are a helpful assistant.\"},\n",
        "    {\"role\": \"user\", \"content\": \"Hello, how are you?\"},\n",
        "    {\"role\": \"assistant\", \"content\": \"I am good, thank you.\"}\n",
        "    ], tokenize=False)"
      ],
      "metadata": {
        "colab": {
          "base_uri": "https://localhost:8080/",
          "height": 36
        },
        "id": "z0YfBKnl2xBv",
        "outputId": "d152d1bb-230b-4228-e723-5c9b49c88caa"
      },
      "execution_count": 26,
      "outputs": [
        {
          "output_type": "execute_result",
          "data": {
            "text/plain": [
              "'<|im_start|>system\\nYou are a helpful assistant.<|im_end|>\\n<|im_start|>user\\nHello, how are you?<|im_end|>\\n<|im_start|>assistant\\nI am good, thank you.<|im_end|>\\n'"
            ],
            "application/vnd.google.colaboratory.intrinsic+json": {
              "type": "string"
            }
          },
          "metadata": {},
          "execution_count": 26
        }
      ]
    },
    {
      "cell_type": "markdown",
      "source": [
        "### Lora Config"
      ],
      "metadata": {
        "id": "C8gHMOQC3dqH"
      }
    },
    {
      "cell_type": "code",
      "source": [
        "from peft import LoraConfig\n",
        "\n",
        "lora_config = LoraConfig(\n",
        "        r=16,\n",
        "        lora_alpha=32,\n",
        "        lora_dropout=0.05,\n",
        "        target_modules=['o_proj', 'k_proj', 'q_proj', \"v_proj\"],\n",
        "        bias=\"none\",\n",
        "        task_type=\"CAUSAL_LM\",\n",
        "      )"
      ],
      "metadata": {
        "id": "KcY5cHYR3a7Q"
      },
      "execution_count": 27,
      "outputs": []
    },
    {
      "cell_type": "markdown",
      "source": [
        "### Wandb (optionnel)\n",
        "Pour visualiser certaines données sur l'entraînement"
      ],
      "metadata": {
        "id": "M_-5A4Se3yEF"
      }
    },
    {
      "cell_type": "code",
      "source": [
        "import wandb\n",
        "\n",
        "wandb.login()"
      ],
      "metadata": {
        "id": "goxaeX6Y31up"
      },
      "execution_count": null,
      "outputs": []
    },
    {
      "cell_type": "markdown",
      "source": [
        "### SFT Trainer config"
      ],
      "metadata": {
        "id": "Lb-1DEl23-kS"
      }
    },
    {
      "cell_type": "code",
      "source": [
        "OUTPUT_DIR = checkpoint.split(\"/\")[-1] + \"-structure-output\"\n",
        "\n",
        "# setup the trainer\n",
        "trainer = SFTTrainer(\n",
        "        model=model,\n",
        "        train_dataset=train_dataset,\n",
        "        eval_dataset=test_dataset,\n",
        "        args=SFTConfig(\n",
        "                per_device_train_batch_size=2,\n",
        "                gradient_accumulation_steps=4,\n",
        "                warmup_steps=100,\n",
        "                max_steps=1000,\n",
        "                learning_rate=0.0002,\n",
        "                lr_scheduler_type=\"cosine\",\n",
        "                eval_strategy=\"steps\",\n",
        "                eval_steps=150,\n",
        "                weight_decay=0.01,\n",
        "                bf16=True,\n",
        "                logging_strategy=\"steps\",\n",
        "                logging_steps=10,\n",
        "                output_dir=\"./\" + OUTPUT_DIR,\n",
        "                optim=\"paged_adamw_8bit\",\n",
        "                seed=42,\n",
        "                run_name=f\"train-{OUTPUT_DIR}\",\n",
        "                report_to=\"none\",\n",
        "                save_steps=31,\n",
        "                save_total_limit=4,\n",
        "                ),\n",
        "        peft_config=lora_config,\n",
        "        formatting_func=formatting_prompts_func,\n",
        "        data_collator=collator,\n",
        "        )"
      ],
      "metadata": {
        "colab": {
          "base_uri": "https://localhost:8080/",
          "height": 81,
          "referenced_widgets": [
            "337b45f2edf748a6aca08192bc1f838f",
            "deace488020040bea117137cd181cdd0",
            "70da932240e14c4fb51248cb781624ca",
            "f7398e4da7944073a9edb8804b1dd970",
            "4323a28d68ea4064b4abd8eea2b5991d",
            "f5e8708eeea54e52b6307cc71bb375b3",
            "2b2d6ec5fabd4df6a981474fec767e36",
            "ce40996bfd0944ac9a4ef00657f41880",
            "e785f31e65c84a75863625148d78ce66",
            "20e6e6c01eb34e3eb306ad8a4af3f4b2",
            "bdb00611aae24b82afbf162938f44be7",
            "ff24161ad38b443f9d3fec5f2939f586",
            "95555b2edf2c47139908922dfa5e89d0",
            "921be156b6484289924467dcd63622f1",
            "3de076b68a79468a9d8614067aeb1ce5",
            "f3b9e5f74c6e45649c221592b239d9c8",
            "7e61bde94d104a678e6c6c59762c03e8",
            "0e40d1b82e934ca9823729d3e5977f67",
            "a05a3ce88f754883afae59695f0d8b23",
            "519824295f494b17ada5d163d191f006",
            "8c63e2cee41f4fddaa7ef9dcb1c3cb6a",
            "844fd2eb62334e4087c8687561761361"
          ]
        },
        "id": "f4hdveS04CCS",
        "outputId": "0e0325dc-1659-4bef-a1b3-5e705629c4bb"
      },
      "execution_count": 28,
      "outputs": [
        {
          "output_type": "display_data",
          "data": {
            "text/plain": [
              "Map:   0%|          | 0/289 [00:00<?, ? examples/s]"
            ],
            "application/vnd.jupyter.widget-view+json": {
              "version_major": 2,
              "version_minor": 0,
              "model_id": "337b45f2edf748a6aca08192bc1f838f"
            }
          },
          "metadata": {}
        },
        {
          "output_type": "display_data",
          "data": {
            "text/plain": [
              "Map:   0%|          | 0/73 [00:00<?, ? examples/s]"
            ],
            "application/vnd.jupyter.widget-view+json": {
              "version_major": 2,
              "version_minor": 0,
              "model_id": "ff24161ad38b443f9d3fec5f2939f586"
            }
          },
          "metadata": {}
        }
      ]
    },
    {
      "cell_type": "code",
      "source": [
        "import os\n",
        "from transformers import is_torch_xpu_available, is_torch_npu_available\n",
        "import torch\n",
        "\n",
        "# Lancement du processus d'entraînement du modèle.\n",
        "# Ici, 'trainer.train()' déclenche la phase de fine-tuning,\n",
        "# dans laquelle les paramètres du modèle sont ajustés sur une tâche spécifique\n",
        "# en utilisant des données d'entraînement pertinentes.\n",
        "trainer.train()\n",
        "\n",
        "# Une fois l'entraînement terminé, on sauvegarde l'adaptateur LoRA (fine-tuning léger).\n",
        "# LoRA (Low-Rank Adaptation) est une technique destinée à fine-tuner les grands\n",
        "# modèles en modifiant uniquement un sous-ensemble restreint de paramètres.\n",
        "final_checkpoint_dir = os.path.join(OUTPUT_DIR, \"final_checkpoint\")\n",
        "trainer.model.save_pretrained(final_checkpoint_dir)\n",
        "\n",
        "# Nettoyage des ressources mémoire pour libérer l'espace GPU ou autres accélérateurs,\n",
        "# ce qui est utile avant de fusionner l'adaptateur LoRA avec le modèle de base.\n",
        "del model  # Suppression explicite du modèle de la mémoire.\n",
        "\n",
        "# Vider les caches des accélérateurs (XPU, NPU ou GPU en fonction de la disponibilité).\n",
        "# Cela optimise l'utilisation future des ressources.\n",
        "if is_torch_xpu_available():\n",
        "    torch.xpu.empty_cache()  # Vide les caches spécifiques pour XPU.\n",
        "elif is_torch_npu_available():\n",
        "    torch.npu.empty_cache()  # Vide les caches spécifiques pour NPU.\n",
        "else:\n",
        "    torch.cuda.empty_cache()  # Vide les caches GPU standard.\n",
        "\n",
        "# Chargement du modèle adapté (en incluant l'adaptateur LoRA) pour effectuer une fusion\n",
        "# avec le modèle de base. Cela permet de sauvegarder un modèle autonome optimisé.\n",
        "from peft import AutoPeftModelForCausalLM\n",
        "\n",
        "# Chargement du modèle préalablement sauvegardé depuis le répertoire OUTPUT_DIR.\n",
        "# Les paramètres 'device_map' et 'torch_dtype' permettent d'optimiser le chargement :\n",
        "# - 'device_map=\"auto\"' ajuste automatiquement le placement sur le GPU, CPU ou autre.\n",
        "# - 'torch_dtype=torch.bfloat16' utilise un format numérique bfloat16, qui réduit\n",
        "#    la mémoire nécessaire tout en maintenant des performances stables.\n",
        "model = AutoPeftModelForCausalLM.from_pretrained(\n",
        "        OUTPUT_DIR,\n",
        "        device_map=\"auto\",\n",
        "        torch_dtype=torch.bfloat16\n",
        "        )\n",
        "\n",
        "# Fusion de l'adaptateur LoRA directement dans le modèle de base,\n",
        "# afin de produire un modèle final unique tout en réduisant ses redondances.\n",
        "model = model.merge_and_unload()\n",
        "\n",
        "# Sauvegarde du modèle fusionné dans un répertoire spécifique.\n",
        "# 'safe_serialization=True' garantit que le modèle est stocké au format sûr,\n",
        "# pour une compatibilité future et une intégrité des données.\n",
        "output_merged_dir = os.path.join(OUTPUT_DIR, \"final_merged_checkpoint\")\n",
        "model.save_pretrained(output_merged_dir, safe_serialization=True)"
      ],
      "metadata": {
        "colab": {
          "base_uri": "https://localhost:8080/",
          "height": 75
        },
        "id": "RjawKwA64Y_U",
        "outputId": "4b82ed3b-fac0-4f4c-9c1d-d8e90aa27318"
      },
      "execution_count": null,
      "outputs": [
        {
          "output_type": "display_data",
          "data": {
            "text/plain": [
              "<IPython.core.display.HTML object>"
            ],
            "text/html": [
              "\n",
              "    <div>\n",
              "      \n",
              "      <progress value='76' max='1000' style='width:300px; height:20px; vertical-align: middle;'></progress>\n",
              "      [  76/1000 04:04 < 50:46, 0.30 it/s, Epoch 2.03/28]\n",
              "    </div>\n",
              "    <table border=\"1\" class=\"dataframe\">\n",
              "  <thead>\n",
              " <tr style=\"text-align: left;\">\n",
              "      <th>Step</th>\n",
              "      <th>Training Loss</th>\n",
              "      <th>Validation Loss</th>\n",
              "    </tr>\n",
              "  </thead>\n",
              "  <tbody>\n",
              "  </tbody>\n",
              "</table><p>"
            ]
          },
          "metadata": {}
        }
      ]
    }
  ]
}